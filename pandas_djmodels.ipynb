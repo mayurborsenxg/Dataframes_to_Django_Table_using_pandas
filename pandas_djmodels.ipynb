{
 "cells": [
  {
   "cell_type": "code",
   "execution_count": 1,
   "metadata": {},
   "outputs": [],
   "source": [
    "import pandas as pd"
   ]
  },
  {
   "cell_type": "code",
   "execution_count": 2,
   "metadata": {},
   "outputs": [],
   "source": [
    "from djmodel import get_model_repr"
   ]
  },
  {
   "cell_type": "code",
   "execution_count": 3,
   "metadata": {},
   "outputs": [],
   "source": [
    "df = pd.read_csv('http://opendata.praha.eu/dataset/8dbb0d35-692c-4668-b225-c0702853c28e/resource/c4f3157a-ef07-423a-9051-7c748484d6df/download/5d88f52c-78ee-4de3-ad18-9b844737cd63-parking.csv')"
   ]
  },
  {
   "cell_type": "code",
   "execution_count": 4,
   "metadata": {
    "scrolled": true
   },
   "outputs": [
    {
     "data": {
      "text/html": [
       "<div>\n",
       "<style scoped>\n",
       "    .dataframe tbody tr th:only-of-type {\n",
       "        vertical-align: middle;\n",
       "    }\n",
       "\n",
       "    .dataframe tbody tr th {\n",
       "        vertical-align: top;\n",
       "    }\n",
       "\n",
       "    .dataframe thead th {\n",
       "        text-align: right;\n",
       "    }\n",
       "</style>\n",
       "<table border=\"1\" class=\"dataframe\">\n",
       "  <thead>\n",
       "    <tr style=\"text-align: right;\">\n",
       "      <th></th>\n",
       "      <th>name</th>\n",
       "      <th>lat</th>\n",
       "      <th>lng</th>\n",
       "      <th>pr</th>\n",
       "      <th>totalNumOfPlaces</th>\n",
       "    </tr>\n",
       "  </thead>\n",
       "  <tbody>\n",
       "    <tr>\n",
       "      <th>0</th>\n",
       "      <td>Běchovice</td>\n",
       "      <td>50.080800</td>\n",
       "      <td>14.597429</td>\n",
       "      <td>True</td>\n",
       "      <td>92</td>\n",
       "    </tr>\n",
       "    <tr>\n",
       "      <th>1</th>\n",
       "      <td>Chodov</td>\n",
       "      <td>50.032074</td>\n",
       "      <td>14.492015</td>\n",
       "      <td>True</td>\n",
       "      <td>653</td>\n",
       "    </tr>\n",
       "    <tr>\n",
       "      <th>2</th>\n",
       "      <td>Depo Hostivař</td>\n",
       "      <td>50.076397</td>\n",
       "      <td>14.517204</td>\n",
       "      <td>True</td>\n",
       "      <td>169</td>\n",
       "    </tr>\n",
       "    <tr>\n",
       "      <th>3</th>\n",
       "      <td>Holešovice</td>\n",
       "      <td>50.109318</td>\n",
       "      <td>14.441252</td>\n",
       "      <td>True</td>\n",
       "      <td>74</td>\n",
       "    </tr>\n",
       "    <tr>\n",
       "      <th>4</th>\n",
       "      <td>Kongresové centrum Praha</td>\n",
       "      <td>50.060696</td>\n",
       "      <td>14.428616</td>\n",
       "      <td>True</td>\n",
       "      <td>260</td>\n",
       "    </tr>\n",
       "  </tbody>\n",
       "</table>\n",
       "</div>"
      ],
      "text/plain": [
       "                       name        lat        lng    pr  totalNumOfPlaces\n",
       "0                 Běchovice  50.080800  14.597429  True                92\n",
       "1                    Chodov  50.032074  14.492015  True               653\n",
       "2             Depo Hostivař  50.076397  14.517204  True               169\n",
       "3                Holešovice  50.109318  14.441252  True                74\n",
       "4  Kongresové centrum Praha  50.060696  14.428616  True               260"
      ]
     },
     "execution_count": 4,
     "metadata": {},
     "output_type": "execute_result"
    }
   ],
   "source": [
    "df.head()"
   ]
  },
  {
   "cell_type": "code",
   "execution_count": 5,
   "metadata": {},
   "outputs": [
    {
     "data": {
      "text/plain": [
       "name                 object\n",
       "lat                 float64\n",
       "lng                 float64\n",
       "pr                     bool\n",
       "totalNumOfPlaces      int64\n",
       "dtype: object"
      ]
     },
     "execution_count": 5,
     "metadata": {},
     "output_type": "execute_result"
    }
   ],
   "source": [
    "df.dtypes"
   ]
  },
  {
   "cell_type": "code",
   "execution_count": 6,
   "metadata": {},
   "outputs": [
    {
     "name": "stdout",
     "output_type": "stream",
     "text": [
      "class DFModel(models.Model):\n",
      "    name = models.CharField(max_length=40) # max length was 24\n",
      "    lat = models.FloatField() # min: 49.986686999999996, max: 50.126156, mean: 50.07130665217392\n",
      "    lng = models.FloatField() # min: 14.28977, max: 14.597429, mean: 14.461379999999997\n",
      "    pr = models.BooleanField() # \n",
      "    total_num_of_places = models.PositiveSmallIntegerField() # min: 33, max: 1205, mean: 275.9130434782609\n",
      "\n"
     ]
    }
   ],
   "source": [
    "print (get_model_repr(df))"
   ]
  },
  {
   "cell_type": "code",
   "execution_count": 7,
   "metadata": {},
   "outputs": [
    {
     "name": "stdout",
     "output_type": "stream",
     "text": [
      "class PragueParkingLot(models.Model):\n",
      "  name = models.CharField(max_length=40) # max length was 24\n",
      "  lat = models.FloatField() # min: 49.986686999999996, max: 50.126156, mean: 50.07130665217392\n",
      "  lng = models.FloatField() # min: 14.28977, max: 14.597429, mean: 14.461379999999997\n",
      "  pr = models.BooleanField() # \n",
      "  totalNumOfPlaces = models.PositiveSmallIntegerField() # min: 33, max: 1205, mean: 275.9130434782609\n",
      "\n"
     ]
    }
   ],
   "source": [
    "print(get_model_repr(df, col_casing='camel', indent=2, model_name='PragueParkingLot'))"
   ]
  },
  {
   "cell_type": "code",
   "execution_count": 8,
   "metadata": {},
   "outputs": [
    {
     "data": {
      "text/plain": [
       "'class DFModel(models.Model):\\n    name = models.CharField(max_length=40) # max length was 24\\n    lat = models.FloatField() # min: 49.986686999999996, max: 50.126156, mean: 50.07130665217392\\n    lng = models.FloatField() # min: 14.28977, max: 14.597429, mean: 14.461379999999997\\n    pr = models.BooleanField() # \\n    total_num_of_places = models.PositiveSmallIntegerField() # min: 33, max: 1205, mean: 275.9130434782609\\n'"
      ]
     },
     "execution_count": 8,
     "metadata": {},
     "output_type": "execute_result"
    }
   ],
   "source": [
    "get_model_repr(df)"
   ]
  },
  {
   "cell_type": "code",
   "execution_count": 9,
   "metadata": {},
   "outputs": [],
   "source": [
    "foo=pd.read_csv('foo.csv')"
   ]
  },
  {
   "cell_type": "code",
   "execution_count": 10,
   "metadata": {},
   "outputs": [
    {
     "data": {
      "text/html": [
       "<div>\n",
       "<style scoped>\n",
       "    .dataframe tbody tr th:only-of-type {\n",
       "        vertical-align: middle;\n",
       "    }\n",
       "\n",
       "    .dataframe tbody tr th {\n",
       "        vertical-align: top;\n",
       "    }\n",
       "\n",
       "    .dataframe thead th {\n",
       "        text-align: right;\n",
       "    }\n",
       "</style>\n",
       "<table border=\"1\" class=\"dataframe\">\n",
       "  <thead>\n",
       "    <tr style=\"text-align: right;\">\n",
       "      <th></th>\n",
       "      <th>DateTime</th>\n",
       "      <th>A</th>\n",
       "      <th>B</th>\n",
       "      <th>C</th>\n",
       "      <th>D</th>\n",
       "    </tr>\n",
       "  </thead>\n",
       "  <tbody>\n",
       "    <tr>\n",
       "      <th>0</th>\n",
       "      <td>01-01-2000</td>\n",
       "      <td>-0.813312</td>\n",
       "      <td>-0.565007</td>\n",
       "      <td>-0.303130</td>\n",
       "      <td>0.116437</td>\n",
       "    </tr>\n",
       "    <tr>\n",
       "      <th>1</th>\n",
       "      <td>02-01-2000</td>\n",
       "      <td>-0.263929</td>\n",
       "      <td>-0.940643</td>\n",
       "      <td>2.447559</td>\n",
       "      <td>-1.013753</td>\n",
       "    </tr>\n",
       "    <tr>\n",
       "      <th>2</th>\n",
       "      <td>03-01-2000</td>\n",
       "      <td>-0.368734</td>\n",
       "      <td>-1.695076</td>\n",
       "      <td>3.575228</td>\n",
       "      <td>-0.596990</td>\n",
       "    </tr>\n",
       "    <tr>\n",
       "      <th>3</th>\n",
       "      <td>04-01-2000</td>\n",
       "      <td>1.660560</td>\n",
       "      <td>-0.868559</td>\n",
       "      <td>3.640053</td>\n",
       "      <td>-0.914362</td>\n",
       "    </tr>\n",
       "    <tr>\n",
       "      <th>4</th>\n",
       "      <td>05-01-2000</td>\n",
       "      <td>1.124829</td>\n",
       "      <td>0.273860</td>\n",
       "      <td>3.819586</td>\n",
       "      <td>-1.503456</td>\n",
       "    </tr>\n",
       "  </tbody>\n",
       "</table>\n",
       "</div>"
      ],
      "text/plain": [
       "     DateTime         A         B         C         D\n",
       "0  01-01-2000 -0.813312 -0.565007 -0.303130  0.116437\n",
       "1  02-01-2000 -0.263929 -0.940643  2.447559 -1.013753\n",
       "2  03-01-2000 -0.368734 -1.695076  3.575228 -0.596990\n",
       "3  04-01-2000  1.660560 -0.868559  3.640053 -0.914362\n",
       "4  05-01-2000  1.124829  0.273860  3.819586 -1.503456"
      ]
     },
     "execution_count": 10,
     "metadata": {},
     "output_type": "execute_result"
    }
   ],
   "source": [
    "foo.head()"
   ]
  },
  {
   "cell_type": "code",
   "execution_count": 11,
   "metadata": {},
   "outputs": [
    {
     "data": {
      "text/plain": [
       "DateTime     object\n",
       "A           float64\n",
       "B           float64\n",
       "C           float64\n",
       "D           float64\n",
       "dtype: object"
      ]
     },
     "execution_count": 11,
     "metadata": {},
     "output_type": "execute_result"
    }
   ],
   "source": [
    "foo.dtypes"
   ]
  },
  {
   "cell_type": "code",
   "execution_count": 12,
   "metadata": {},
   "outputs": [
    {
     "name": "stdout",
     "output_type": "stream",
     "text": [
      "class DFModel(models.Model):\n",
      "    Date_time = models.CharField(max_length=20) # max length was 10\n",
      "    a = models.FloatField() # min: -18.68946437, max: 52.1952781, mean: 18.303331880431\n",
      "    b = models.FloatField() # min: -11.71823209, max: 77.42975359, mean: 19.410974501147\n",
      "    c = models.FloatField() # min: -24.07498959, max: 12.66699283, mean: -6.373214935728001\n",
      "    d = models.FloatField() # min: -9.126647771, max: 24.16269858, mean: 9.199696272191\n",
      "\n"
     ]
    }
   ],
   "source": [
    "print(get_model_repr(foo))"
   ]
  },
  {
   "cell_type": "code",
   "execution_count": 13,
   "metadata": {},
   "outputs": [
    {
     "data": {
      "text/plain": [
       "'class foo(models.Model):\\n  dateTime = models.CharField(max_length=20) # max length was 10\\n  a = models.FloatField() # min: -18.68946437, max: 52.1952781, mean: 18.303331880431\\n  b = models.FloatField() # min: -11.71823209, max: 77.42975359, mean: 19.410974501147\\n  c = models.FloatField() # min: -24.07498959, max: 12.66699283, mean: -6.373214935728001\\n  d = models.FloatField() # min: -9.126647771, max: 24.16269858, mean: 9.199696272191\\n'"
      ]
     },
     "execution_count": 13,
     "metadata": {},
     "output_type": "execute_result"
    }
   ],
   "source": [
    "get_model_repr(foo, col_casing='camel',indent=2,model_name='foo')"
   ]
  },
  {
   "cell_type": "code",
   "execution_count": 14,
   "metadata": {},
   "outputs": [
    {
     "name": "stdout",
     "output_type": "stream",
     "text": [
      "class foobar(models.Model):\n",
      "  dateTime = models.CharField(max_length=20) # max length was 10\n",
      "  a = models.FloatField() # min: -18.68946437, max: 52.1952781, mean: 18.303331880431\n",
      "  b = models.FloatField() # min: -11.71823209, max: 77.42975359, mean: 19.410974501147\n",
      "  c = models.FloatField() # min: -24.07498959, max: 12.66699283, mean: -6.373214935728001\n",
      "  d = models.FloatField() # min: -9.126647771, max: 24.16269858, mean: 9.199696272191\n",
      "\n"
     ]
    }
   ],
   "source": [
    "print(get_model_repr(foo,col_casing='camel',indent=2,model_name='foobar'))"
   ]
  },
  {
   "cell_type": "code",
   "execution_count": null,
   "metadata": {},
   "outputs": [],
   "source": []
  }
 ],
 "metadata": {
  "kernelspec": {
   "display_name": "Python 3",
   "language": "python",
   "name": "python3"
  },
  "language_info": {
   "codemirror_mode": {
    "name": "ipython",
    "version": 3
   },
   "file_extension": ".py",
   "mimetype": "text/x-python",
   "name": "python",
   "nbconvert_exporter": "python",
   "pygments_lexer": "ipython3",
   "version": "3.7.2"
  }
 },
 "nbformat": 4,
 "nbformat_minor": 2
}
